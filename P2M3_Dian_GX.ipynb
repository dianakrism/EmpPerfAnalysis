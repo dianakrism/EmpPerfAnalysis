{
 "cells": [
  {
   "cell_type": "markdown",
   "metadata": {},
   "source": [
    "```\n",
    "=================================================\n",
    "Employee Performance Analysis\n",
    "\n",
    "Nama  : Dian\n",
    "\n",
    "Notebook ini diubat untuk memverifikasi bahwa data tersebut benar secara struktural dan sintaksis serta mengikuti format atau pola yang telah ditetapkan sebelumnya. Seluruh proses ini dilakukan dengan menggunakan bantuan modul dari GreatExpectations.\n",
    "=================================================\n",
    "```\n",
    "\n",
    "___"
   ]
  },
  {
   "cell_type": "markdown",
   "metadata": {},
   "source": [
    "# Validasi Data Menggunakan Great Expectations\n",
    "\n",
    "> Validasi data adalah proses memeriksa kesesuaian data dengan standar atau aturan tertentu. Tujuannya adalah memastikan data benar secara struktur, format, dan pola, sehingga menghasilkan analisis yang akurat dan keputusan yang tepat. Dalam konteks kinerja pegawai, langkah-langkah validasi sebagai berikut :\n",
    "\n",
    "1. Periksa keunikan nilai kolom `employee_id`.  \n",
    "2. Validasi rentang skor kinerja agar berada di antara 1 hingga 5 `(performance_score)`.  \n",
    "3. Pastikan kolom `job_title` hanya berisi nilai yang valid.  \n",
    "4. Verifikasi tipe data untuk skor kepuasan pegawai `(employee_satisfaction_score)`.  \n",
    "5. Periksa panjang karakter untuk kolom `job_title`.  \n",
    "6. Validasi tingkat pendidikan agar sesuai standar `(education_level)`.  \n",
    "7. Pastikan kolom `hire_date` bisa di-parse sebagai tanggal yang valid.\n",
    "\n",
    "Dengan langkah-langkah validasi ini, kualitas data kinerja pegawai akan meningkat, meminimalisit kesalahan analisis, dan membantu pengambilan keputusan yang lebih baik."
   ]
  },
  {
   "cell_type": "markdown",
   "metadata": {},
   "source": [
    "## Import Modules\n",
    "\n",
    "> Mengimpor modul yang dibutuhkan."
   ]
  },
  {
   "cell_type": "code",
   "execution_count": 3,
   "metadata": {},
   "outputs": [],
   "source": [
    "import pandas as pd\n",
    "import great_expectations as gx"
   ]
  },
  {
   "cell_type": "markdown",
   "metadata": {},
   "source": [
    "## Data Loading\n",
    "\n",
    "> Tahapan ini dilakukan untuk membaca data yang sudah bersih."
   ]
  },
  {
   "cell_type": "code",
   "execution_count": 4,
   "metadata": {},
   "outputs": [
    {
     "data": {
      "text/html": [
       "<div>\n",
       "<style scoped>\n",
       "    .dataframe tbody tr th:only-of-type {\n",
       "        vertical-align: middle;\n",
       "    }\n",
       "\n",
       "    .dataframe tbody tr th {\n",
       "        vertical-align: top;\n",
       "    }\n",
       "\n",
       "    .dataframe thead th {\n",
       "        text-align: right;\n",
       "    }\n",
       "</style>\n",
       "<table border=\"1\" class=\"dataframe\">\n",
       "  <thead>\n",
       "    <tr style=\"text-align: right;\">\n",
       "      <th></th>\n",
       "      <th>employee_id</th>\n",
       "      <th>department</th>\n",
       "      <th>gender</th>\n",
       "      <th>age</th>\n",
       "      <th>job_title</th>\n",
       "      <th>hire_date</th>\n",
       "      <th>years_at_company</th>\n",
       "      <th>education_level</th>\n",
       "      <th>performance_score</th>\n",
       "      <th>monthly_salary</th>\n",
       "      <th>work_hours_per_week</th>\n",
       "      <th>projects_handled</th>\n",
       "      <th>overtime_hours</th>\n",
       "      <th>sick_days</th>\n",
       "      <th>remote_work_frequency</th>\n",
       "      <th>team_size</th>\n",
       "      <th>training_hours</th>\n",
       "      <th>promotions</th>\n",
       "      <th>employee_satisfaction_score</th>\n",
       "      <th>resigned</th>\n",
       "    </tr>\n",
       "  </thead>\n",
       "  <tbody>\n",
       "    <tr>\n",
       "      <th>0</th>\n",
       "      <td>1</td>\n",
       "      <td>IT</td>\n",
       "      <td>Male</td>\n",
       "      <td>55</td>\n",
       "      <td>Specialist</td>\n",
       "      <td>2022-01-19</td>\n",
       "      <td>2</td>\n",
       "      <td>High School</td>\n",
       "      <td>5</td>\n",
       "      <td>6750.0</td>\n",
       "      <td>33</td>\n",
       "      <td>32</td>\n",
       "      <td>22</td>\n",
       "      <td>2</td>\n",
       "      <td>0</td>\n",
       "      <td>14</td>\n",
       "      <td>66</td>\n",
       "      <td>0</td>\n",
       "      <td>2.63</td>\n",
       "      <td>False</td>\n",
       "    </tr>\n",
       "    <tr>\n",
       "      <th>1</th>\n",
       "      <td>2</td>\n",
       "      <td>Finance</td>\n",
       "      <td>Male</td>\n",
       "      <td>29</td>\n",
       "      <td>Developer</td>\n",
       "      <td>2024-04-18</td>\n",
       "      <td>0</td>\n",
       "      <td>High School</td>\n",
       "      <td>5</td>\n",
       "      <td>7500.0</td>\n",
       "      <td>34</td>\n",
       "      <td>34</td>\n",
       "      <td>13</td>\n",
       "      <td>14</td>\n",
       "      <td>100</td>\n",
       "      <td>12</td>\n",
       "      <td>61</td>\n",
       "      <td>2</td>\n",
       "      <td>1.72</td>\n",
       "      <td>False</td>\n",
       "    </tr>\n",
       "    <tr>\n",
       "      <th>2</th>\n",
       "      <td>3</td>\n",
       "      <td>Finance</td>\n",
       "      <td>Male</td>\n",
       "      <td>55</td>\n",
       "      <td>Specialist</td>\n",
       "      <td>2015-10-26</td>\n",
       "      <td>8</td>\n",
       "      <td>High School</td>\n",
       "      <td>3</td>\n",
       "      <td>5850.0</td>\n",
       "      <td>37</td>\n",
       "      <td>27</td>\n",
       "      <td>6</td>\n",
       "      <td>3</td>\n",
       "      <td>50</td>\n",
       "      <td>10</td>\n",
       "      <td>1</td>\n",
       "      <td>0</td>\n",
       "      <td>3.17</td>\n",
       "      <td>False</td>\n",
       "    </tr>\n",
       "    <tr>\n",
       "      <th>3</th>\n",
       "      <td>4</td>\n",
       "      <td>Customer Support</td>\n",
       "      <td>Female</td>\n",
       "      <td>48</td>\n",
       "      <td>Analyst</td>\n",
       "      <td>2016-10-22</td>\n",
       "      <td>7</td>\n",
       "      <td>Bachelor</td>\n",
       "      <td>2</td>\n",
       "      <td>4800.0</td>\n",
       "      <td>52</td>\n",
       "      <td>10</td>\n",
       "      <td>28</td>\n",
       "      <td>12</td>\n",
       "      <td>100</td>\n",
       "      <td>10</td>\n",
       "      <td>0</td>\n",
       "      <td>1</td>\n",
       "      <td>1.86</td>\n",
       "      <td>False</td>\n",
       "    </tr>\n",
       "    <tr>\n",
       "      <th>4</th>\n",
       "      <td>5</td>\n",
       "      <td>Engineering</td>\n",
       "      <td>Female</td>\n",
       "      <td>36</td>\n",
       "      <td>Analyst</td>\n",
       "      <td>2021-07-23</td>\n",
       "      <td>3</td>\n",
       "      <td>Bachelor</td>\n",
       "      <td>2</td>\n",
       "      <td>4800.0</td>\n",
       "      <td>38</td>\n",
       "      <td>11</td>\n",
       "      <td>29</td>\n",
       "      <td>13</td>\n",
       "      <td>100</td>\n",
       "      <td>15</td>\n",
       "      <td>9</td>\n",
       "      <td>1</td>\n",
       "      <td>1.25</td>\n",
       "      <td>False</td>\n",
       "    </tr>\n",
       "  </tbody>\n",
       "</table>\n",
       "</div>"
      ],
      "text/plain": [
       "   employee_id        department  gender  age   job_title   hire_date  \\\n",
       "0            1                IT    Male   55  Specialist  2022-01-19   \n",
       "1            2           Finance    Male   29   Developer  2024-04-18   \n",
       "2            3           Finance    Male   55  Specialist  2015-10-26   \n",
       "3            4  Customer Support  Female   48     Analyst  2016-10-22   \n",
       "4            5       Engineering  Female   36     Analyst  2021-07-23   \n",
       "\n",
       "   years_at_company education_level  performance_score  monthly_salary  \\\n",
       "0                 2     High School                  5          6750.0   \n",
       "1                 0     High School                  5          7500.0   \n",
       "2                 8     High School                  3          5850.0   \n",
       "3                 7        Bachelor                  2          4800.0   \n",
       "4                 3        Bachelor                  2          4800.0   \n",
       "\n",
       "   work_hours_per_week  projects_handled  overtime_hours  sick_days  \\\n",
       "0                   33                32              22          2   \n",
       "1                   34                34              13         14   \n",
       "2                   37                27               6          3   \n",
       "3                   52                10              28         12   \n",
       "4                   38                11              29         13   \n",
       "\n",
       "   remote_work_frequency  team_size  training_hours  promotions  \\\n",
       "0                      0         14              66           0   \n",
       "1                    100         12              61           2   \n",
       "2                     50         10               1           0   \n",
       "3                    100         10               0           1   \n",
       "4                    100         15               9           1   \n",
       "\n",
       "   employee_satisfaction_score  resigned  \n",
       "0                         2.63     False  \n",
       "1                         1.72     False  \n",
       "2                         3.17     False  \n",
       "3                         1.86     False  \n",
       "4                         1.25     False  "
      ]
     },
     "execution_count": 4,
     "metadata": {},
     "output_type": "execute_result"
    }
   ],
   "source": [
    "df = pd.read_csv('dags/clean_data.csv')\n",
    "df.head()"
   ]
  },
  {
   "cell_type": "markdown",
   "metadata": {},
   "source": [
    "## Data Preparation\n",
    "\n",
    "> Tahapan ini dilakukan untuk mengkonversi dataframe ke great expectations. Konversi ini dilakukan agar kompatibel dengan fungsi-fungsi yang ada pada modul Great Expectations sehingga proses validasi berlangsung secara maksimal tanpa terjadinya error."
   ]
  },
  {
   "cell_type": "code",
   "execution_count": 5,
   "metadata": {},
   "outputs": [
    {
     "name": "stdout",
     "output_type": "stream",
     "text": [
      "<class 'great_expectations.dataset.pandas_dataset.PandasDataset'>\n",
      "RangeIndex: 100000 entries, 0 to 99999\n",
      "Data columns (total 20 columns):\n",
      " #   Column                       Non-Null Count   Dtype  \n",
      "---  ------                       --------------   -----  \n",
      " 0   employee_id                  100000 non-null  int64  \n",
      " 1   department                   100000 non-null  object \n",
      " 2   gender                       100000 non-null  object \n",
      " 3   age                          100000 non-null  int64  \n",
      " 4   job_title                    100000 non-null  object \n",
      " 5   hire_date                    100000 non-null  object \n",
      " 6   years_at_company             100000 non-null  int64  \n",
      " 7   education_level              100000 non-null  object \n",
      " 8   performance_score            100000 non-null  int64  \n",
      " 9   monthly_salary               100000 non-null  float64\n",
      " 10  work_hours_per_week          100000 non-null  int64  \n",
      " 11  projects_handled             100000 non-null  int64  \n",
      " 12  overtime_hours               100000 non-null  int64  \n",
      " 13  sick_days                    100000 non-null  int64  \n",
      " 14  remote_work_frequency        100000 non-null  int64  \n",
      " 15  team_size                    100000 non-null  int64  \n",
      " 16  training_hours               100000 non-null  int64  \n",
      " 17  promotions                   100000 non-null  int64  \n",
      " 18  employee_satisfaction_score  100000 non-null  float64\n",
      " 19  resigned                     100000 non-null  bool   \n",
      "dtypes: bool(1), float64(2), int64(12), object(5)\n",
      "memory usage: 14.6+ MB\n"
     ]
    }
   ],
   "source": [
    "ge_df = gx.from_pandas(df)\n",
    "ge_df.info()"
   ]
  },
  {
   "cell_type": "markdown",
   "metadata": {},
   "source": [
    "Konversi berhasil dilakukan (ditunjukkan dengan hasil: `<class 'great_expectations.dataset.pandas_dataset.PandasDataset'>`)."
   ]
  },
  {
   "cell_type": "markdown",
   "metadata": {},
   "source": [
    "## Expectations"
   ]
  },
  {
   "cell_type": "markdown",
   "metadata": {},
   "source": [
    "### Expectation 1: To be Unique\n",
    "\n",
    "> Tahap ini dilakukan untuk memastikan kolom `employee_id` tidak memiliki nilai duplikat."
   ]
  },
  {
   "cell_type": "code",
   "execution_count": 6,
   "metadata": {},
   "outputs": [
    {
     "data": {
      "text/plain": [
       "{\n",
       "  \"success\": true,\n",
       "  \"result\": {\n",
       "    \"element_count\": 100000,\n",
       "    \"missing_count\": 0,\n",
       "    \"missing_percent\": 0.0,\n",
       "    \"unexpected_count\": 0,\n",
       "    \"unexpected_percent\": 0.0,\n",
       "    \"unexpected_percent_total\": 0.0,\n",
       "    \"unexpected_percent_nonmissing\": 0.0,\n",
       "    \"partial_unexpected_list\": []\n",
       "  },\n",
       "  \"meta\": {},\n",
       "  \"exception_info\": {\n",
       "    \"raised_exception\": false,\n",
       "    \"exception_traceback\": null,\n",
       "    \"exception_message\": null\n",
       "  }\n",
       "}"
      ]
     },
     "execution_count": 6,
     "metadata": {},
     "output_type": "execute_result"
    }
   ],
   "source": [
    "id_v = ge_df.expect_column_values_to_be_unique(\"employee_id\")\n",
    "id_v"
   ]
  },
  {
   "cell_type": "markdown",
   "metadata": {},
   "source": [
    "Hasil ini (ditunjukkan dengan <mark>\"success\": true</mark>) menunjukkan bahwa semua nilai di kolom `employee_id` unik dan tidak ada duplikat."
   ]
  },
  {
   "cell_type": "markdown",
   "metadata": {},
   "source": [
    "### Expectation 2: To be Between\n",
    "\n",
    "> Tahap ini dilakukan untuk memastikan kolom `performance_score` berada dalam rentang 1-5."
   ]
  },
  {
   "cell_type": "code",
   "execution_count": 7,
   "metadata": {},
   "outputs": [
    {
     "data": {
      "text/plain": [
       "{\n",
       "  \"success\": true,\n",
       "  \"result\": {\n",
       "    \"element_count\": 100000,\n",
       "    \"missing_count\": 0,\n",
       "    \"missing_percent\": 0.0,\n",
       "    \"unexpected_count\": 0,\n",
       "    \"unexpected_percent\": 0.0,\n",
       "    \"unexpected_percent_total\": 0.0,\n",
       "    \"unexpected_percent_nonmissing\": 0.0,\n",
       "    \"partial_unexpected_list\": []\n",
       "  },\n",
       "  \"meta\": {},\n",
       "  \"exception_info\": {\n",
       "    \"raised_exception\": false,\n",
       "    \"exception_traceback\": null,\n",
       "    \"exception_message\": null\n",
       "  }\n",
       "}"
      ]
     },
     "execution_count": 7,
     "metadata": {},
     "output_type": "execute_result"
    }
   ],
   "source": [
    "ps_v = ge_df.expect_column_values_to_be_between(\"performance_score\", min_value=1, max_value=5) \n",
    "ps_v"
   ]
  },
  {
   "cell_type": "markdown",
   "metadata": {},
   "source": [
    "Hasil ini (ditunjukkan dengan <mark>\"success\": true</mark>) menunjukkan bahwa semua nilai di kolom `performance_score` berada dalam rentang 1-5."
   ]
  },
  {
   "cell_type": "markdown",
   "metadata": {},
   "source": [
    "### Expectation 3: To be in Set\n",
    "\n",
    "> Tahap ini dilakukan untuk memastikan kolom  `job_title` hanya berisi nilai yang valid (\"Analyst\", \"Consultant\", \"Developer\", \"Engineer\", \"Manager\", \"Specialist\", \"Technician\")."
   ]
  },
  {
   "cell_type": "code",
   "execution_count": 8,
   "metadata": {},
   "outputs": [
    {
     "data": {
      "text/plain": [
       "{\n",
       "  \"success\": true,\n",
       "  \"result\": {\n",
       "    \"element_count\": 100000,\n",
       "    \"missing_count\": 0,\n",
       "    \"missing_percent\": 0.0,\n",
       "    \"unexpected_count\": 0,\n",
       "    \"unexpected_percent\": 0.0,\n",
       "    \"unexpected_percent_total\": 0.0,\n",
       "    \"unexpected_percent_nonmissing\": 0.0,\n",
       "    \"partial_unexpected_list\": []\n",
       "  },\n",
       "  \"meta\": {},\n",
       "  \"exception_info\": {\n",
       "    \"raised_exception\": false,\n",
       "    \"exception_traceback\": null,\n",
       "    \"exception_message\": null\n",
       "  }\n",
       "}"
      ]
     },
     "execution_count": 8,
     "metadata": {},
     "output_type": "execute_result"
    }
   ],
   "source": [
    "jt_v= ge_df.expect_column_values_to_be_in_set(\"job_title\", [\"Analyst\", \"Consultant\", \"Developer\", \"Engineer\", \"Manager\", \"Specialist\", \"Technician\"])\n",
    "jt_v"
   ]
  },
  {
   "cell_type": "markdown",
   "metadata": {},
   "source": [
    "Hasil ini (ditunjukkan dengan <mark>\"success\": true</mark>) menunjukkan bahwa semua nilai di kolom `job_title` hanya berisi nilai yang valid (\"Analyst\", \"Consultant\", \"Developer\", \"Engineer\", \"Manager\", \"Specialist\", \"Technician\")."
   ]
  },
  {
   "cell_type": "markdown",
   "metadata": {},
   "source": [
    "### Expectation 4: To be in Type List\n",
    "\n",
    "> Tahap ini dilakukan untuk memastikan kolom `employee_satisfaction_score` berisi nilai desimal."
   ]
  },
  {
   "cell_type": "code",
   "execution_count": 9,
   "metadata": {},
   "outputs": [
    {
     "data": {
      "text/plain": [
       "{\n",
       "  \"success\": true,\n",
       "  \"result\": {\n",
       "    \"observed_value\": \"float64\"\n",
       "  },\n",
       "  \"meta\": {},\n",
       "  \"exception_info\": {\n",
       "    \"raised_exception\": false,\n",
       "    \"exception_traceback\": null,\n",
       "    \"exception_message\": null\n",
       "  }\n",
       "}"
      ]
     },
     "execution_count": 9,
     "metadata": {},
     "output_type": "execute_result"
    }
   ],
   "source": [
    "ess_v= ge_df.expect_column_values_to_be_in_type_list(\"employee_satisfaction_score\", [\"float64\"])\n",
    "ess_v"
   ]
  },
  {
   "cell_type": "markdown",
   "metadata": {},
   "source": [
    "Hasil ini (ditunjukkan dengan <mark>\"success\": true</mark>) menunjukkan bahwa semua nilai di kolom `employee_satisfaction_score` berisi nilai desimal."
   ]
  },
  {
   "cell_type": "markdown",
   "metadata": {},
   "source": [
    "### Expectation 5: expect_column_value_lengths_to_be_between\n",
    "\n",
    "> Tahap ini dilakukan untuk memastikan kolom `job_title` berisi teks dengan panjang yang sesuai dan tidak berlebihan."
   ]
  },
  {
   "cell_type": "code",
   "execution_count": 10,
   "metadata": {},
   "outputs": [
    {
     "data": {
      "text/plain": [
       "{\n",
       "  \"success\": true,\n",
       "  \"result\": {\n",
       "    \"element_count\": 100000,\n",
       "    \"missing_count\": 0,\n",
       "    \"missing_percent\": 0.0,\n",
       "    \"unexpected_count\": 0,\n",
       "    \"unexpected_percent\": 0.0,\n",
       "    \"unexpected_percent_total\": 0.0,\n",
       "    \"unexpected_percent_nonmissing\": 0.0,\n",
       "    \"partial_unexpected_list\": []\n",
       "  },\n",
       "  \"meta\": {},\n",
       "  \"exception_info\": {\n",
       "    \"raised_exception\": false,\n",
       "    \"exception_traceback\": null,\n",
       "    \"exception_message\": null\n",
       "  }\n",
       "}"
      ]
     },
     "execution_count": 10,
     "metadata": {},
     "output_type": "execute_result"
    }
   ],
   "source": [
    "jt_l_v=ge_df.expect_column_value_lengths_to_be_between(\n",
    "    column=\"job_title\",\n",
    "    min_value=3,\n",
    "    max_value=50\n",
    ")\n",
    "jt_l_v"
   ]
  },
  {
   "cell_type": "markdown",
   "metadata": {},
   "source": [
    "Hasil ini (ditunjukkan dengan <mark>\"success\": true</mark>) menunjukkan bahwa semua nilai di kolom `job_title` berisi teks dengan panjang yang sesuai dan tidak berlebihan."
   ]
  },
  {
   "cell_type": "markdown",
   "metadata": {},
   "source": [
    "### Expectation 6: expect_column_values_to_match_regex\n",
    "\n",
    "> Tahap ini dilakukan untuk memastikan kolom `education_level` berisi nilai yang valid (High 'School', 'Bachelor', 'Master', 'PhD').\n"
   ]
  },
  {
   "cell_type": "code",
   "execution_count": 11,
   "metadata": {},
   "outputs": [
    {
     "data": {
      "text/plain": [
       "{\n",
       "  \"success\": true,\n",
       "  \"result\": {\n",
       "    \"element_count\": 100000,\n",
       "    \"missing_count\": 0,\n",
       "    \"missing_percent\": 0.0,\n",
       "    \"unexpected_count\": 0,\n",
       "    \"unexpected_percent\": 0.0,\n",
       "    \"unexpected_percent_total\": 0.0,\n",
       "    \"unexpected_percent_nonmissing\": 0.0,\n",
       "    \"partial_unexpected_list\": []\n",
       "  },\n",
       "  \"meta\": {},\n",
       "  \"exception_info\": {\n",
       "    \"raised_exception\": false,\n",
       "    \"exception_traceback\": null,\n",
       "    \"exception_message\": null\n",
       "  }\n",
       "}"
      ]
     },
     "execution_count": 11,
     "metadata": {},
     "output_type": "execute_result"
    }
   ],
   "source": [
    "edu_v = ge_df.expect_column_values_to_match_regex(column=\"education_level\", regex=r\"^(High School|Bachelor|Master|PhD)$\")\n",
    "edu_v"
   ]
  },
  {
   "cell_type": "markdown",
   "metadata": {},
   "source": [
    "Hasil ini (ditunjukkan dengan <mark>\"success\": true</mark>) menunjukkan bahwa semua nilai di kolom `education_level` berisi nilai yang valid (High 'School', 'Bachelor', 'Master', 'PhD')."
   ]
  },
  {
   "cell_type": "markdown",
   "metadata": {},
   "source": [
    "### Expectation 7: expect_column_values_to_be_dateutil_parseable\n",
    "\n",
    "> Tahap ini memastikan kolom `hire_date` berisi tanggal yang valid."
   ]
  },
  {
   "cell_type": "code",
   "execution_count": 12,
   "metadata": {},
   "outputs": [
    {
     "data": {
      "text/plain": [
       "{\n",
       "  \"success\": true,\n",
       "  \"result\": {\n",
       "    \"element_count\": 100000,\n",
       "    \"missing_count\": 0,\n",
       "    \"missing_percent\": 0.0,\n",
       "    \"unexpected_count\": 0,\n",
       "    \"unexpected_percent\": 0.0,\n",
       "    \"unexpected_percent_total\": 0.0,\n",
       "    \"unexpected_percent_nonmissing\": 0.0,\n",
       "    \"partial_unexpected_list\": []\n",
       "  },\n",
       "  \"meta\": {},\n",
       "  \"exception_info\": {\n",
       "    \"raised_exception\": false,\n",
       "    \"exception_traceback\": null,\n",
       "    \"exception_message\": null\n",
       "  }\n",
       "}"
      ]
     },
     "execution_count": 12,
     "metadata": {},
     "output_type": "execute_result"
    }
   ],
   "source": [
    "hd_v = ge_df.expect_column_values_to_be_dateutil_parseable(column='hire_date')\n",
    "hd_v"
   ]
  },
  {
   "cell_type": "markdown",
   "metadata": {},
   "source": [
    "Hasil ini (ditunjukkan dengan <mark>\"success\": true</mark>) menunjukkan bahwa semua nilai di kolom `hire_date` berisi tanggal yang valid."
   ]
  },
  {
   "cell_type": "markdown",
   "metadata": {},
   "source": [
    "# Kesimpulan\n",
    "\n",
    "> Berdasarkan seluruh hasil proses validasi, data dinyatakan valid sehingga siap digunakan untuk analisis lebih lanjut."
   ]
  }
 ],
 "metadata": {
  "kernelspec": {
   "display_name": "base",
   "language": "python",
   "name": "python3"
  },
  "language_info": {
   "codemirror_mode": {
    "name": "ipython",
    "version": 3
   },
   "file_extension": ".py",
   "mimetype": "text/x-python",
   "name": "python",
   "nbconvert_exporter": "python",
   "pygments_lexer": "ipython3",
   "version": "3.9.19"
  }
 },
 "nbformat": 4,
 "nbformat_minor": 2
}
